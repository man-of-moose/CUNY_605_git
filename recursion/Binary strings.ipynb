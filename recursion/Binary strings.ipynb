{
 "cells": [
  {
   "cell_type": "markdown",
   "metadata": {},
   "source": [
    "Input : K = 3  \n",
    "Output : 000 , 001 , 010 , 100 , 101 \n",
    "\n",
    "Input : K  = 4 \n",
    "\n",
    "Output :0000 0001 0010 0100 0101 1000 1001 1010"
   ]
  },
  {
   "cell_type": "markdown",
   "metadata": {},
   "source": [
    "function receives a string (1 or 0) and returns either one or two value..."
   ]
  },
  {
   "cell_type": "code",
   "execution_count": 107,
   "metadata": {},
   "outputs": [],
   "source": [
    "import numpy"
   ]
  },
  {
   "cell_type": "code",
   "execution_count": 79,
   "metadata": {},
   "outputs": [],
   "source": [
    "from itertools import chain"
   ]
  },
  {
   "cell_type": "markdown",
   "metadata": {},
   "source": [
    "the logic:\n",
    "\n",
    "function should check if the length of a list is equal to the desired size.\n",
    "\n",
    "If it is, return the list\n",
    "\n",
    "if it isn't, create two more lists by adding 1s and 0s\n",
    "\n",
    "Check if they are the right size, if they are return them together\n",
    "\n",
    "if not, push them both through the function again"
   ]
  },
  {
   "cell_type": "code",
   "execution_count": 85,
   "metadata": {},
   "outputs": [],
   "source": [
    "a = [\"hello\",\"dog\"]\n",
    "b = [\"big\",\"booty\"]"
   ]
  },
  {
   "cell_type": "code",
   "execution_count": 86,
   "metadata": {},
   "outputs": [
    {
     "data": {
      "text/plain": [
       "['hello', 'dog', 'big', 'booty']"
      ]
     },
     "execution_count": 86,
     "metadata": {},
     "output_type": "execute_result"
    }
   ],
   "source": [
    "list(chain.from_iterable([a,b]))"
   ]
  },
  {
   "cell_type": "code",
   "execution_count": 126,
   "metadata": {},
   "outputs": [],
   "source": [
    "def binary_recursion(size, string_= None):\n",
    "    if string_ is None:\n",
    "        string_ = \"\"\n",
    "        \n",
    "    if len(string_) == size:\n",
    "        return string_\n",
    "    else:\n",
    "        string_0 = string_ + \"0\"\n",
    "        string_1 = string_ + \"1\"\n",
    "        \n",
    "        ret = [binary_recursion(size, string_0), binary_recursion(size, string_1)]\n",
    "        \n",
    "        l2 = [([x] if isinstance(x,str) else x) for x in ret]\n",
    "        \n",
    "        return list(chain(*l2))\n",
    "        \n",
    "#         return [binary_recursion(size, string_0), binary_recursion(size, string_1)]\n",
    "#         string_0 = string_ + \"0\"\n",
    "#         string_1 = string_ + \"1\"\n",
    "\n",
    "#         return [string_0, string_1]\n",
    "#     else:\n",
    "#         string_0 = string_ + \"0\"\n",
    "#         string_1 = string_ + \"1\"\n",
    "\n",
    "#         return [binary_recursion(size, string_0), binary_recursion(size, string_1)]"
   ]
  },
  {
   "cell_type": "code",
   "execution_count": 127,
   "metadata": {},
   "outputs": [],
   "source": [
    "results_10 = binary_recursion(5)"
   ]
  },
  {
   "cell_type": "code",
   "execution_count": 128,
   "metadata": {},
   "outputs": [
    {
     "data": {
      "text/plain": [
       "['00000',\n",
       " '00001',\n",
       " '00010',\n",
       " '00011',\n",
       " '00100',\n",
       " '00101',\n",
       " '00110',\n",
       " '00111',\n",
       " '01000',\n",
       " '01001',\n",
       " '01010',\n",
       " '01011',\n",
       " '01100',\n",
       " '01101',\n",
       " '01110',\n",
       " '01111',\n",
       " '10000',\n",
       " '10001',\n",
       " '10010',\n",
       " '10011',\n",
       " '10100',\n",
       " '10101',\n",
       " '10110',\n",
       " '10111',\n",
       " '11000',\n",
       " '11001',\n",
       " '11010',\n",
       " '11011',\n",
       " '11100',\n",
       " '11101',\n",
       " '11110',\n",
       " '11111']"
      ]
     },
     "execution_count": 128,
     "metadata": {},
     "output_type": "execute_result"
    }
   ],
   "source": [
    "results_10"
   ]
  },
  {
   "cell_type": "code",
   "execution_count": null,
   "metadata": {},
   "outputs": [],
   "source": []
  }
 ],
 "metadata": {
  "kernelspec": {
   "display_name": "Python 3",
   "language": "python",
   "name": "python3"
  },
  "language_info": {
   "codemirror_mode": {
    "name": "ipython",
    "version": 3
   },
   "file_extension": ".py",
   "mimetype": "text/x-python",
   "name": "python",
   "nbconvert_exporter": "python",
   "pygments_lexer": "ipython3",
   "version": "3.7.3"
  }
 },
 "nbformat": 4,
 "nbformat_minor": 4
}
