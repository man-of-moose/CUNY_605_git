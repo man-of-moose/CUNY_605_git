{
 "cells": [
  {
   "cell_type": "code",
   "execution_count": 168,
   "metadata": {},
   "outputs": [],
   "source": [
    "import numpy as np"
   ]
  },
  {
   "cell_type": "code",
   "execution_count": 169,
   "metadata": {},
   "outputs": [],
   "source": [
    "matrix_1 = np.array([1,1,3,0,5,0,7,0,9,0,11,0,13,0,15,1]).reshape(4,4)"
   ]
  },
  {
   "cell_type": "code",
   "execution_count": 150,
   "metadata": {},
   "outputs": [
    {
     "data": {
      "text/plain": [
       "array([[ 1,  1,  3,  0],\n",
       "       [ 5,  0,  7,  0],\n",
       "       [ 9,  0, 11,  0],\n",
       "       [13,  0, 15,  1]])"
      ]
     },
     "execution_count": 150,
     "metadata": {},
     "output_type": "execute_result"
    }
   ],
   "source": [
    "matrix_1"
   ]
  },
  {
   "cell_type": "code",
   "execution_count": 151,
   "metadata": {},
   "outputs": [],
   "source": [
    "def set_pivot(matrix, row):\n",
    "    ret_matrix = matrix.copy()\n",
    "    target_row = ret_matrix[row,:]\n",
    "    divide_by = target_row[row]\n",
    "    \n",
    "    ret_matrix[row,:] = target_row / divide_by\n",
    "    \n",
    "    print(ret_matrix)\n",
    "    \n",
    "    return ret_matrix"
   ]
  },
  {
   "cell_type": "code",
   "execution_count": 152,
   "metadata": {},
   "outputs": [],
   "source": [
    "def add_row(matrix, target_index, adding_index, scaler):\n",
    "    ret_matrix = matrix.copy()\n",
    "    target_row = ret_matrix[target_index,:]\n",
    "    adding_row = ret_matrix[adding_index,:]\n",
    "    resultant_row = target_row + adding_row*scaler\n",
    "    ret_matrix[target_index,:] = resultant_row\n",
    "    \n",
    "    print(ret_matrix)\n",
    "    \n",
    "    return ret_matrix"
   ]
  },
  {
   "cell_type": "code",
   "execution_count": 153,
   "metadata": {},
   "outputs": [],
   "source": [
    "def swap_rows(matrix, row1_index, row2_index):\n",
    "    ret_matrix = matrix.copy()\n",
    "    \n",
    "    ret_matrix[row1_index,:] = matrix[row2_index,:]\n",
    "    ret_matrix[row2_index,:] = matrix[row1_index,:]\n",
    "    \n",
    "    return ret_matrix"
   ]
  },
  {
   "cell_type": "code",
   "execution_count": 154,
   "metadata": {},
   "outputs": [
    {
     "data": {
      "text/plain": [
       "array([[ 1,  1,  3,  0],\n",
       "       [ 5,  0,  7,  0],\n",
       "       [ 9,  0, 11,  0],\n",
       "       [13,  0, 15,  1]])"
      ]
     },
     "execution_count": 154,
     "metadata": {},
     "output_type": "execute_result"
    }
   ],
   "source": [
    "matrix_1"
   ]
  },
  {
   "cell_type": "code",
   "execution_count": 155,
   "metadata": {},
   "outputs": [
    {
     "name": "stdout",
     "output_type": "stream",
     "text": [
      "[[ 1  1  3  0]\n",
      " [ 5  0  7  0]\n",
      " [ 9  0 11  0]\n",
      " [13  0 15  1]]\n"
     ]
    }
   ],
   "source": [
    "matrix_1 = set_pivot(matrix_1, 0)"
   ]
  },
  {
   "cell_type": "code",
   "execution_count": 156,
   "metadata": {},
   "outputs": [
    {
     "name": "stdout",
     "output_type": "stream",
     "text": [
      "[[ 1  1  3  0]\n",
      " [ 0 -5 -8  0]\n",
      " [ 9  0 11  0]\n",
      " [13  0 15  1]]\n"
     ]
    }
   ],
   "source": [
    "matrix_1 = add_row(matrix_1,1,0,-5)"
   ]
  },
  {
   "cell_type": "code",
   "execution_count": 157,
   "metadata": {
    "scrolled": true
   },
   "outputs": [
    {
     "name": "stdout",
     "output_type": "stream",
     "text": [
      "[[  1   1   3   0]\n",
      " [  0  -5  -8   0]\n",
      " [  0  -9 -16   0]\n",
      " [ 13   0  15   1]]\n"
     ]
    }
   ],
   "source": [
    "matrix_1 = add_row(matrix_1,2,0,-9)"
   ]
  },
  {
   "cell_type": "code",
   "execution_count": 158,
   "metadata": {},
   "outputs": [
    {
     "name": "stdout",
     "output_type": "stream",
     "text": [
      "[[  1   1   3   0]\n",
      " [  0  -5  -8   0]\n",
      " [  0  -9 -16   0]\n",
      " [  0 -13 -24   1]]\n"
     ]
    }
   ],
   "source": [
    "matrix_1 = add_row(matrix_1,3,0,-13)"
   ]
  },
  {
   "cell_type": "code",
   "execution_count": 159,
   "metadata": {},
   "outputs": [
    {
     "name": "stdout",
     "output_type": "stream",
     "text": [
      "[[  1   1   3   0]\n",
      " [  0   1   1   0]\n",
      " [  0  -9 -16   0]\n",
      " [  0 -13 -24   1]]\n"
     ]
    }
   ],
   "source": [
    "matrix_1 = set_pivot(matrix_1, 1)"
   ]
  },
  {
   "cell_type": "code",
   "execution_count": 160,
   "metadata": {},
   "outputs": [
    {
     "name": "stdout",
     "output_type": "stream",
     "text": [
      "[[  1   0   2   0]\n",
      " [  0   1   1   0]\n",
      " [  0  -9 -16   0]\n",
      " [  0 -13 -24   1]]\n"
     ]
    }
   ],
   "source": [
    "matrix_1 = add_row(matrix_1, 0,1,-1)"
   ]
  },
  {
   "cell_type": "code",
   "execution_count": 161,
   "metadata": {},
   "outputs": [
    {
     "name": "stdout",
     "output_type": "stream",
     "text": [
      "[[  1   0   2   0]\n",
      " [  0   1   1   0]\n",
      " [  0   0  -7   0]\n",
      " [  0 -13 -24   1]]\n"
     ]
    }
   ],
   "source": [
    "matrix_1 = add_row(matrix_1, 2,1,9)"
   ]
  },
  {
   "cell_type": "code",
   "execution_count": 162,
   "metadata": {},
   "outputs": [
    {
     "name": "stdout",
     "output_type": "stream",
     "text": [
      "[[  1   0   2   0]\n",
      " [  0   1   1   0]\n",
      " [  0   0  -7   0]\n",
      " [  0   0 -11   1]]\n"
     ]
    }
   ],
   "source": [
    "matrix_1 = add_row(matrix_1, 3,1,13)"
   ]
  },
  {
   "cell_type": "code",
   "execution_count": 163,
   "metadata": {},
   "outputs": [
    {
     "name": "stdout",
     "output_type": "stream",
     "text": [
      "[[  1   0   2   0]\n",
      " [  0   1   1   0]\n",
      " [  0   0   1   0]\n",
      " [  0   0 -11   1]]\n"
     ]
    }
   ],
   "source": [
    "matrix_1 = set_pivot(matrix_1, 2)"
   ]
  },
  {
   "cell_type": "code",
   "execution_count": 164,
   "metadata": {},
   "outputs": [
    {
     "name": "stdout",
     "output_type": "stream",
     "text": [
      "[[  1   0   0   0]\n",
      " [  0   1   1   0]\n",
      " [  0   0   1   0]\n",
      " [  0   0 -11   1]]\n"
     ]
    }
   ],
   "source": [
    "matrix_1 = add_row(matrix_1, 0,2,-2)"
   ]
  },
  {
   "cell_type": "code",
   "execution_count": 165,
   "metadata": {},
   "outputs": [
    {
     "name": "stdout",
     "output_type": "stream",
     "text": [
      "[[  1   0   0   0]\n",
      " [  0   1   0   0]\n",
      " [  0   0   1   0]\n",
      " [  0   0 -11   1]]\n"
     ]
    }
   ],
   "source": [
    "matrix_1 = add_row(matrix_1, 1,2,-1)"
   ]
  },
  {
   "cell_type": "code",
   "execution_count": 166,
   "metadata": {},
   "outputs": [
    {
     "name": "stdout",
     "output_type": "stream",
     "text": [
      "[[1 0 0 0]\n",
      " [0 1 0 0]\n",
      " [0 0 1 0]\n",
      " [0 0 0 1]]\n"
     ]
    }
   ],
   "source": [
    "matrix_1 = add_row(matrix_1, 3,2,11)"
   ]
  },
  {
   "cell_type": "markdown",
   "metadata": {},
   "source": [
    "# Automte the above for any matrix"
   ]
  },
  {
   "cell_type": "markdown",
   "metadata": {},
   "source": [
    "1. given a matrix\n",
    "2. get the number of rows and columns\n",
    "3. starting with the first row, apply set_pivot\n",
    "4. for each other row, take take the value of the first item and apply add_row() function to cancel it.\n",
    "5. Move to the next row, apply set_pivot\n",
    "6. for each other row....\n",
    "\n",
    "\n",
    "Continue until complete.\n",
    "\n",
    "Need to check for a few things:\n",
    "1. before using set_pivot, need to check if the current value is 0.\n",
    "2. if current value is zero, need to swap current row with another row that has value at this index\n",
    "3. if there are no rows with a value at this index, shift column index +1 while keeping on same row. Repeat above steps"
   ]
  },
  {
   "cell_type": "code",
   "execution_count": 177,
   "metadata": {},
   "outputs": [],
   "source": [
    "def can_pivot(col):\n",
    "    if col[0] != 0:\n",
    "        return True\n",
    "    else:\n",
    "        return False"
   ]
  },
  {
   "cell_type": "code",
   "execution_count": 178,
   "metadata": {},
   "outputs": [],
   "source": [
    "def determine_add_scaler(matrix, target_row_index, pivot_col):\n",
    "    target_row = matrix[target_row_index,:]\n",
    "    \n",
    "    value = target_row[pivot_col]\n",
    "    \n",
    "    return -value\n",
    "    \n",
    "    "
   ]
  },
  {
   "cell_type": "code",
   "execution_count": 172,
   "metadata": {},
   "outputs": [
    {
     "data": {
      "text/plain": [
       "array([[ 1,  1,  3,  0],\n",
       "       [ 5,  0,  7,  0],\n",
       "       [ 9,  0, 11,  0],\n",
       "       [13,  0, 15,  1]])"
      ]
     },
     "execution_count": 172,
     "metadata": {},
     "output_type": "execute_result"
    }
   ],
   "source": [
    "matrix_1"
   ]
  },
  {
   "cell_type": "code",
   "execution_count": 171,
   "metadata": {},
   "outputs": [],
   "source": [
    "rows = matrix_1.shape[0]\n",
    "columns = matrix_1.shape[1]"
   ]
  },
  {
   "cell_type": "code",
   "execution_count": 173,
   "metadata": {},
   "outputs": [],
   "source": [
    "pivot_row = 0\n",
    "pivot_col = 0\n",
    "\n"
   ]
  },
  {
   "cell_type": "code",
   "execution_count": 174,
   "metadata": {},
   "outputs": [],
   "source": [
    "first_column = matrix_1[:,0]"
   ]
  },
  {
   "cell_type": "code",
   "execution_count": 176,
   "metadata": {},
   "outputs": [
    {
     "data": {
      "text/plain": [
       "1"
      ]
     },
     "execution_count": 176,
     "metadata": {},
     "output_type": "execute_result"
    }
   ],
   "source": [
    "first_column[0]"
   ]
  },
  {
   "cell_type": "code",
   "execution_count": 179,
   "metadata": {},
   "outputs": [
    {
     "data": {
      "text/plain": [
       "array([[ 1,  1,  3,  0],\n",
       "       [ 5,  0,  7,  0],\n",
       "       [ 9,  0, 11,  0],\n",
       "       [13,  0, 15,  1]])"
      ]
     },
     "execution_count": 179,
     "metadata": {},
     "output_type": "execute_result"
    }
   ],
   "source": [
    "matrix_1"
   ]
  },
  {
   "cell_type": "code",
   "execution_count": null,
   "metadata": {},
   "outputs": [],
   "source": [
    "pivot = 0\n",
    "for i in range(rows):\n",
    "    first_pivot_value = matrix_1[i,:][pivot]\n",
    "    if first_pivot_value == 0"
   ]
  }
 ],
 "metadata": {
  "kernelspec": {
   "display_name": "Python 3",
   "language": "python",
   "name": "python3"
  },
  "language_info": {
   "codemirror_mode": {
    "name": "ipython",
    "version": 3
   },
   "file_extension": ".py",
   "mimetype": "text/x-python",
   "name": "python",
   "nbconvert_exporter": "python",
   "pygments_lexer": "ipython3",
   "version": "3.7.3"
  }
 },
 "nbformat": 4,
 "nbformat_minor": 4
}
