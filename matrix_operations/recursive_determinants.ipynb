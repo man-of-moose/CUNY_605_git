{
 "cells": [
  {
   "cell_type": "code",
   "execution_count": 1,
   "metadata": {},
   "outputs": [],
   "source": [
    "import numpy as np"
   ]
  },
  {
   "cell_type": "code",
   "execution_count": 2,
   "metadata": {},
   "outputs": [],
   "source": [
    "hw_array = np.array([2,0,3,2,5,1,2,4,3,0,1,2,5,3,2,1]).reshape(4,4)"
   ]
  },
  {
   "cell_type": "code",
   "execution_count": 3,
   "metadata": {},
   "outputs": [
    {
     "data": {
      "text/plain": [
       "array([[2, 0, 3, 2],\n",
       "       [5, 1, 2, 4],\n",
       "       [3, 0, 1, 2],\n",
       "       [5, 3, 2, 1]])"
      ]
     },
     "execution_count": 3,
     "metadata": {},
     "output_type": "execute_result"
    }
   ],
   "source": [
    "hw_array"
   ]
  },
  {
   "cell_type": "markdown",
   "metadata": {},
   "source": [
    "When solving recursion problems, it's best to identify the \"base\" operation. In this case, it's solving for the determinant of a 2x2 matrix (below)"
   ]
  },
  {
   "cell_type": "code",
   "execution_count": 8,
   "metadata": {},
   "outputs": [],
   "source": [
    "def solve_2(matrix):\n",
    "    a = matrix[0,0]\n",
    "    b = matrix[0,1]\n",
    "    c = matrix[1,0]\n",
    "    d = matrix[1,1]\n",
    "    \n",
    "    ret = (a*d) - (b*c)\n",
    "    \n",
    "    return ret"
   ]
  },
  {
   "cell_type": "markdown",
   "metadata": {},
   "source": [
    "If you aren't solving for a 2x2 matrix, then you need to slice the matrix into smaller matrices, and solve for their determinants. The below function takes a matrix and a column index, and returns the correct sub-matrix"
   ]
  },
  {
   "cell_type": "code",
   "execution_count": 9,
   "metadata": {},
   "outputs": [],
   "source": [
    "def slice_matrix(matrix, column):\n",
    "    length = matrix.shape[0]\n",
    "    arrays = []\n",
    "    for i in range(length):\n",
    "        if i != column:\n",
    "            array = matrix[1:,i]\n",
    "            arrays.append(array)\n",
    "            \n",
    "    ret = np.array(arrays)\n",
    "    ret = ret.transpose()\n",
    "    \n",
    "    return ret"
   ]
  },
  {
   "cell_type": "markdown",
   "metadata": {},
   "source": [
    "Below is just a helper function. When evaluating determinants, we need to account for the changing signs on our constants. If the column index is even (0,2,4..) then returns 1, else -1"
   ]
  },
  {
   "cell_type": "code",
   "execution_count": 10,
   "metadata": {},
   "outputs": [],
   "source": [
    "def sign_control(column_number):\n",
    "    if column_number % 2 == 0:\n",
    "        return 1\n",
    "    else:\n",
    "        return -1"
   ]
  },
  {
   "cell_type": "markdown",
   "metadata": {},
   "source": [
    "And finally our recursive function! Takes a matrix, and checks to see if it's 2x2. \n",
    "\n",
    "If it is, it returns the determinant for a 2x2 matrix. \n",
    "\n",
    "If it is not, then, for each column index, it identifies the correct constant value and sign, performs the correct matrix split, and stores the constant multiplied by the result of the recursive function with the sub-matrix as input."
   ]
  },
  {
   "cell_type": "code",
   "execution_count": 7,
   "metadata": {},
   "outputs": [],
   "source": [
    "def solve_determinant(matrix):\n",
    "    length = matrix.shape[0]\n",
    "    if length == 2:\n",
    "        return solve_2(matrix)\n",
    "    \n",
    "    else:\n",
    "        sums = []\n",
    "        for i in range(length):\n",
    "            constant = matrix[0,i] * sign_control(i)\n",
    "            matrix_slice = slice_matrix(matrix, i)\n",
    "            \n",
    "            sums.append(constant * solve_determinant(matrix_slice))\n",
    "            \n",
    "        return sum(sums)"
   ]
  },
  {
   "cell_type": "markdown",
   "metadata": {},
   "source": [
    "And here we verify our results (expecting 29)"
   ]
  },
  {
   "cell_type": "code",
   "execution_count": 11,
   "metadata": {},
   "outputs": [
    {
     "data": {
      "text/plain": [
       "29"
      ]
     },
     "execution_count": 11,
     "metadata": {},
     "output_type": "execute_result"
    }
   ],
   "source": [
    "solve_determinant(hw_array)"
   ]
  },
  {
   "cell_type": "code",
   "execution_count": null,
   "metadata": {},
   "outputs": [],
   "source": []
  }
 ],
 "metadata": {
  "kernelspec": {
   "display_name": "Python 3",
   "language": "python",
   "name": "python3"
  },
  "language_info": {
   "codemirror_mode": {
    "name": "ipython",
    "version": 3
   },
   "file_extension": ".py",
   "mimetype": "text/x-python",
   "name": "python",
   "nbconvert_exporter": "python",
   "pygments_lexer": "ipython3",
   "version": "3.7.3"
  }
 },
 "nbformat": 4,
 "nbformat_minor": 4
}
