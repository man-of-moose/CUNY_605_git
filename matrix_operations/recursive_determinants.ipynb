{
 "cells": [
  {
   "cell_type": "markdown",
   "metadata": {},
   "source": [
    "# Solving For Determinants with Recusion"
   ]
  },
  {
   "cell_type": "code",
   "execution_count": 3,
   "metadata": {},
   "outputs": [],
   "source": [
    "import numpy as np"
   ]
  },
  {
   "cell_type": "markdown",
   "metadata": {},
   "source": [
    "## Exercise DM.C26"
   ]
  },
  {
   "cell_type": "code",
   "execution_count": 4,
   "metadata": {},
   "outputs": [],
   "source": [
    "hw_array = np.array([2,0,3,2,5,1,2,4,3,0,1,2,5,3,2,1]).reshape(4,4)"
   ]
  },
  {
   "cell_type": "code",
   "execution_count": 5,
   "metadata": {},
   "outputs": [
    {
     "data": {
      "text/plain": [
       "array([[2, 0, 3, 2],\n",
       "       [5, 1, 2, 4],\n",
       "       [3, 0, 1, 2],\n",
       "       [5, 3, 2, 1]])"
      ]
     },
     "execution_count": 5,
     "metadata": {},
     "output_type": "execute_result"
    }
   ],
   "source": [
    "hw_array"
   ]
  },
  {
   "cell_type": "markdown",
   "metadata": {},
   "source": [
    "## Solving via Recursion"
   ]
  },
  {
   "cell_type": "code",
   "execution_count": 6,
   "metadata": {},
   "outputs": [],
   "source": [
    "# solve for the \"base case\", which is a 2 by 2 matrix\n",
    "\n",
    "def solve_2(matrix):\n",
    "    a = matrix[0,0]\n",
    "    b = matrix[0,1]\n",
    "    c = matrix[1,0]\n",
    "    d = matrix[1,1]\n",
    "    \n",
    "    ret = (a*d) - (b*c)\n",
    "    \n",
    "    return ret"
   ]
  },
  {
   "cell_type": "code",
   "execution_count": 10,
   "metadata": {},
   "outputs": [],
   "source": [
    "example_1 = np.identity(2)"
   ]
  },
  {
   "cell_type": "code",
   "execution_count": 11,
   "metadata": {},
   "outputs": [
    {
     "data": {
      "text/plain": [
       "array([[1., 0.],\n",
       "       [0., 1.]])"
      ]
     },
     "execution_count": 11,
     "metadata": {},
     "output_type": "execute_result"
    }
   ],
   "source": [
    "example_1"
   ]
  },
  {
   "cell_type": "code",
   "execution_count": 13,
   "metadata": {},
   "outputs": [
    {
     "data": {
      "text/plain": [
       "1.0"
      ]
     },
     "execution_count": 13,
     "metadata": {},
     "output_type": "execute_result"
    }
   ],
   "source": [
    "solve_2(example_1)"
   ]
  },
  {
   "cell_type": "code",
   "execution_count": 18,
   "metadata": {},
   "outputs": [],
   "source": [
    "# perform a \"determinant split\" on a matrix, given a column index. Returns the appropriate submatrix.\n",
    "\n",
    "def slice_matrix(matrix, column):\n",
    "    length = matrix.shape[0]\n",
    "    arrays = []\n",
    "    for i in range(length):\n",
    "        if i != column:\n",
    "            array = matrix[1:,i]\n",
    "            arrays.append(array)\n",
    "            \n",
    "    ret = np.array(arrays)\n",
    "    ret = ret.transpose()\n",
    "    \n",
    "    return ret"
   ]
  },
  {
   "cell_type": "code",
   "execution_count": 15,
   "metadata": {},
   "outputs": [],
   "source": [
    "example_2 = np.identity(5)"
   ]
  },
  {
   "cell_type": "code",
   "execution_count": 16,
   "metadata": {},
   "outputs": [
    {
     "data": {
      "text/plain": [
       "array([[1., 0., 0., 0., 0.],\n",
       "       [0., 1., 0., 0., 0.],\n",
       "       [0., 0., 1., 0., 0.],\n",
       "       [0., 0., 0., 1., 0.],\n",
       "       [0., 0., 0., 0., 1.]])"
      ]
     },
     "execution_count": 16,
     "metadata": {},
     "output_type": "execute_result"
    }
   ],
   "source": [
    "example_2"
   ]
  },
  {
   "cell_type": "code",
   "execution_count": 21,
   "metadata": {},
   "outputs": [
    {
     "data": {
      "text/plain": [
       "array([[0., 0., 0., 0.],\n",
       "       [0., 1., 0., 0.],\n",
       "       [0., 0., 1., 0.],\n",
       "       [0., 0., 0., 1.]])"
      ]
     },
     "execution_count": 21,
     "metadata": {},
     "output_type": "execute_result"
    }
   ],
   "source": [
    "slice_matrix(example_2, 1)"
   ]
  },
  {
   "cell_type": "code",
   "execution_count": 22,
   "metadata": {},
   "outputs": [],
   "source": [
    "# helper function that returns 1 for even column indexes and -1 for odd column indexes\n",
    "# used to control the sign of the constants in subsequeny determinant calculation\n",
    "\n",
    "def sign_control(column_number):\n",
    "    if column_number % 2 == 0:\n",
    "        return 1\n",
    "    else:\n",
    "        return -1"
   ]
  },
  {
   "cell_type": "code",
   "execution_count": 23,
   "metadata": {},
   "outputs": [],
   "source": [
    "# solve determinant recursively\n",
    "\n",
    "def solve_determinant(matrix):\n",
    "    length = matrix.shape[0]\n",
    "    if length == 2: # first check if the matrix is 2v2 - if yes, return determinant\n",
    "        return solve_2(matrix)\n",
    "    \n",
    "    else: # if not...\n",
    "        products = []\n",
    "        for i in range(length): # for each column...\n",
    "            constant = matrix[0,i] * sign_control(i) # create the constant used in determinant calculation\n",
    "            matrix_slice = slice_matrix(matrix, i) # obtain the correct sub-matrix\n",
    "            \n",
    "            products.append(constant * solve_determinant(matrix_slice)) # append the product of the constant the result of\n",
    "                                                                    # `solve_determinant() function with sub-matrix as input\n",
    "            \n",
    "        return sum(products) # return the sum of all products"
   ]
  },
  {
   "cell_type": "markdown",
   "metadata": {},
   "source": [
    "And here we verify our results (expecting 29)"
   ]
  },
  {
   "cell_type": "code",
   "execution_count": 24,
   "metadata": {},
   "outputs": [
    {
     "data": {
      "text/plain": [
       "29"
      ]
     },
     "execution_count": 24,
     "metadata": {},
     "output_type": "execute_result"
    }
   ],
   "source": [
    "solve_determinant(hw_array)"
   ]
  },
  {
   "cell_type": "code",
   "execution_count": null,
   "metadata": {},
   "outputs": [],
   "source": []
  }
 ],
 "metadata": {
  "kernelspec": {
   "display_name": "Python 3",
   "language": "python",
   "name": "python3"
  },
  "language_info": {
   "codemirror_mode": {
    "name": "ipython",
    "version": 3
   },
   "file_extension": ".py",
   "mimetype": "text/x-python",
   "name": "python",
   "nbconvert_exporter": "python",
   "pygments_lexer": "ipython3",
   "version": "3.7.3"
  }
 },
 "nbformat": 4,
 "nbformat_minor": 4
}
